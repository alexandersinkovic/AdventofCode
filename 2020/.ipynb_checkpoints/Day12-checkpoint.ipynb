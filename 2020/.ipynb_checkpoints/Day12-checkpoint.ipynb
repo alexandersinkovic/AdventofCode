{
 "cells": [
  {
   "cell_type": "code",
   "execution_count": 1,
   "metadata": {},
   "outputs": [],
   "source": [
    "from aoc_fetcher import get_data\n",
    "import re\n",
    "input = get_data(2020, 12)"
   ]
  },
  {
   "cell_type": "code",
   "execution_count": 2,
   "metadata": {},
   "outputs": [],
   "source": [
    "nav = input.replace('N', '0').replace('E', '1').replace('S', '2').replace('W', '3').splitlines()\n",
    "#print([w for w in nav if re.search('(^R|^L)', w)])\n",
    "pos = [0, 0] #(X, Y)\n",
    "face = 1"
   ]
  },
  {
   "cell_type": "code",
   "execution_count": 7,
   "metadata": {},
   "outputs": [],
   "source": [
    "def move(d, num, pos):\n",
    "    if d == 0:\n",
    "        #print(\"Bin in move:\" + str(num))\n",
    "        pos[1] = pos[1] + num\n",
    "    elif d == 1:\n",
    "        pos[0] = pos[0] + num\n",
    "    elif d == 2:\n",
    "        pos[1] = pos[1] - num\n",
    "    elif d == 3:\n",
    "        pos[0] = pos[0] - num\n",
    "    return pos"
   ]
  },
  {
   "cell_type": "code",
   "execution_count": 4,
   "metadata": {},
   "outputs": [],
   "source": [
    "#[10, 1] #East, North\n",
    "#[1, -10] #East, South\n",
    "#[-10, -1] #West, South\n",
    "#[-1, 10] #West, North\n",
    "#[10, 1] #East, North\n",
    "\n",
    "def turn(num, waypoint):\n",
    "    if num == 1:\n",
    "        waypoint = [waypoint[1], -waypoint[0]]\n",
    "    elif num == 2:\n",
    "        waypoint = [-waypoint[0], -waypoint[1]]\n",
    "    else:\n",
    "        waypoint = [-waypoint[1], waypoint[0]]\n",
    "    return waypoint"
   ]
  },
  {
   "cell_type": "code",
   "execution_count": 33,
   "metadata": {},
   "outputs": [
    {
     "name": "stdout",
     "output_type": "stream",
     "text": [
      "[658, -907]\n"
     ]
    }
   ],
   "source": [
    "for line in nav:\n",
    "    if line[:1] in 'FRL':\n",
    "        letter = line[:1]\n",
    "    else:\n",
    "        letter = int(line[:1])\n",
    "    number = int(line[1:])\n",
    "    if letter == 'F':\n",
    "        pos = move(face, number, pos)\n",
    "    elif letter == 'R':\n",
    "        face = (face + number/90)%4\n",
    "    elif letter == 'L':\n",
    "        face = (face - number/90)%4\n",
    "    else:\n",
    "        pos = move(letter, number, pos)\n",
    "print(pos)"
   ]
  },
  {
   "cell_type": "code",
   "execution_count": 22,
   "metadata": {},
   "outputs": [],
   "source": [
    "print(658 + 907)"
   ]
  },
  {
   "cell_type": "code",
   "execution_count": 8,
   "metadata": {},
   "outputs": [
    {
     "name": "stdout",
     "output_type": "stream",
     "text": [
      "[-6231, -72652]\n"
     ]
    }
   ],
   "source": [
    "waypoint = [10, 1]\n",
    "pos = [0,0]\n",
    "for l in range(len(nav)):\n",
    "    if nav[l][:1] == 'L':\n",
    "        nav[l] = 'R' + str(360-int(nav[l][1:]))\n",
    "for line in nav:\n",
    "    #print(line)\n",
    "    if line[:1] in 'FRL':\n",
    "        letter = line[:1]\n",
    "    else:\n",
    "        letter = int(line[:1])\n",
    "    number = int(line[1:])\n",
    "    if letter == 'F':\n",
    "        ns = number*waypoint[1]\n",
    "        ew = number*waypoint[0]\n",
    "        #print(ns, ew)\n",
    "        pos = move(0, ns, pos)\n",
    "        pos = move(1, ew, pos)\n",
    "    elif letter == 'R':\n",
    "        waypoint = turn(number/90, waypoint)\n",
    "    else:\n",
    "        waypoint = move(letter, number, waypoint)\n",
    "    #print(waypoint, pos)\n",
    "print(pos)"
   ]
  },
  {
   "cell_type": "code",
   "execution_count": 9,
   "metadata": {},
   "outputs": [
    {
     "name": "stdout",
     "output_type": "stream",
     "text": [
      "78883\n"
     ]
    }
   ],
   "source": [
    "print(6231 + 72652)"
   ]
  },
  {
   "cell_type": "code",
   "execution_count": null,
   "metadata": {},
   "outputs": [],
   "source": []
  }
 ],
 "metadata": {
  "kernelspec": {
   "display_name": "Python 3",
   "language": "python",
   "name": "python3"
  },
  "language_info": {
   "codemirror_mode": {
    "name": "ipython",
    "version": 3
   },
   "file_extension": ".py",
   "mimetype": "text/x-python",
   "name": "python",
   "nbconvert_exporter": "python",
   "pygments_lexer": "ipython3",
   "version": "3.8.3"
  }
 },
 "nbformat": 4,
 "nbformat_minor": 4
}
