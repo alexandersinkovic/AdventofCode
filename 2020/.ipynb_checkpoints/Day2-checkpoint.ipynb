{
 "cells": [
  {
   "cell_type": "code",
   "execution_count": 39,
   "metadata": {},
   "outputs": [],
   "source": [
    "import requests\n",
    "import browser_cookie3\n",
    "from aoc_fetcher import get_data"
   ]
  },
  {
   "cell_type": "code",
   "execution_count": 40,
   "metadata": {},
   "outputs": [
    {
     "name": "stdout",
     "output_type": "stream",
     "text": [
      "660\n"
     ]
    }
   ],
   "source": [
    "input = get_data(2020, 2)\n",
    "list = input.splitlines()\n",
    "list = [x.split(\" \") for x in list]\n",
    "list = [(x.split(\"-\"), ''.join([char for char in z if char == y[:1]])) for (x, y, z) in list]\n",
    "count = 0\n",
    "for (tuple, string) in list:\n",
    "    if int(tuple[0]) <= len(string) <= int(tuple[1]):\n",
    "        count += 1\n",
    "print(count)\n"
   ]
  },
  {
   "cell_type": "code",
   "execution_count": 41,
   "metadata": {},
   "outputs": [
    {
     "name": "stdout",
     "output_type": "stream",
     "text": [
      "530\n"
     ]
    }
   ],
   "source": [
    "input = get_data(2020, 2)\n",
    "list = input.splitlines()\n",
    "list = [x.split(\" \") for x in list]\n",
    "list = [(x.split(\"-\"), y[:1], z) for (x, y, z) in list]\n",
    "count = 0\n",
    "for (tuple, char ,string) in list:\n",
    "    if string[int(tuple[0])-1] == char:\n",
    "        if string[int(tuple[1])-1] != char:\n",
    "            count +=1\n",
    "            continue\n",
    "    else:\n",
    "        if string[int(tuple[1])-1] == char:\n",
    "            count +=1\n",
    "            continue\n",
    "print(count)"
   ]
  },
  {
   "cell_type": "code",
   "execution_count": null,
   "metadata": {},
   "outputs": [],
   "source": []
  }
 ],
 "metadata": {
  "kernelspec": {
   "display_name": "Python 3",
   "language": "python",
   "name": "python3"
  },
  "language_info": {
   "codemirror_mode": {
    "name": "ipython",
    "version": 3
   },
   "file_extension": ".py",
   "mimetype": "text/x-python",
   "name": "python",
   "nbconvert_exporter": "python",
   "pygments_lexer": "ipython3",
   "version": "3.8.3"
  }
 },
 "nbformat": 4,
 "nbformat_minor": 4
}
