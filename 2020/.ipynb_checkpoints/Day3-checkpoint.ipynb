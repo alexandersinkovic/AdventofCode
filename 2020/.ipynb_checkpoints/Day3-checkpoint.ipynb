{
 "cells": [
  {
   "cell_type": "code",
   "execution_count": 1,
   "metadata": {},
   "outputs": [],
   "source": [
    "from aoc_fetcher import get_data"
   ]
  },
  {
   "cell_type": "code",
   "execution_count": 10,
   "metadata": {},
   "outputs": [
    {
     "name": "stdout",
     "output_type": "stream",
     "text": [
      "60\n",
      "286\n",
      "76\n",
      "62\n"
     ]
    }
   ],
   "source": [
    "input = get_data(2020, 3).splitlines()\n",
    "counter = 0\n",
    "trees = 0\n",
    "result = 1\n",
    "for x in [1, 3, 5, 7]:\n",
    "    for line in input:\n",
    "        if line[counter] == '#':\n",
    "            trees += 1\n",
    "        counter = (counter + x) % 31\n",
    "    print(trees)\n",
    "    counter = 0\n",
    "    trees = 0"
   ]
  },
  {
   "cell_type": "code",
   "execution_count": 16,
   "metadata": {},
   "outputs": [
    {
     "name": "stdout",
     "output_type": "stream",
     "text": [
      "0\n"
     ]
    }
   ],
   "source": [
    "counter = 0\n",
    "ignore = False\n",
    "for line in input:\n",
    "    if (ignore):\n",
    "        ignore = False\n",
    "        continue\n",
    "    else:\n",
    "        ignore = True\n",
    "    if line[counter] == '#':\n",
    "        trees += 1\n",
    "    counter = (counter + 1) % 31\n",
    "print(trees)"
   ]
  },
  {
   "cell_type": "code",
   "execution_count": null,
   "metadata": {},
   "outputs": [],
   "source": []
  }
 ],
 "metadata": {
  "kernelspec": {
   "display_name": "Python 3",
   "language": "python",
   "name": "python3"
  },
  "language_info": {
   "codemirror_mode": {
    "name": "ipython",
    "version": 3
   },
   "file_extension": ".py",
   "mimetype": "text/x-python",
   "name": "python",
   "nbconvert_exporter": "python",
   "pygments_lexer": "ipython3",
   "version": "3.8.3"
  }
 },
 "nbformat": 4,
 "nbformat_minor": 4
}
