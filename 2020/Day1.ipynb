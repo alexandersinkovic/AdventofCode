{
 "cells": [
  {
   "cell_type": "code",
   "execution_count": null,
   "metadata": {},
   "outputs": [],
   "source": [
    "import requests\n",
    "import browser_cookie3\n",
    "\n",
    "def get_data(year, day):\n",
    "    cookies = browser_cookie3.chrome(domain_name='.adventofcode.com')\n",
    "    response = requests.get(f'https://adventofcode.com/{year}/day/{day}/input', verify=True, cookies=cookies, timeout=3)\n",
    "    return response.text"
   ]
  },
  {
   "cell_type": "code",
   "execution_count": null,
   "metadata": {},
   "outputs": [],
   "source": [
    "s = get_data(2020, 1)\n",
    "s = s.splitlines()\n",
    "s1 = set(s)\n",
    "s2 = set(x for x in s if int(x) < 1010)\n",
    "s1 = s1 - s2\n",
    "for n in s2:\n",
    "    for x in s2:\n",
    "        for y in s2:\n",
    "            if int(x)+int(n)+int(y) ==2020:\n",
    "                print(int(x) * int(n) * int(y))"
   ]
  },
  {
   "cell_type": "code",
   "execution_count": null,
   "metadata": {},
   "outputs": [],
   "source": []
  }
 ],
 "metadata": {
  "kernelspec": {
   "display_name": "Python 3",
   "language": "python",
   "name": "python3"
  },
  "language_info": {
   "codemirror_mode": {
    "name": "ipython",
    "version": 3
   },
   "file_extension": ".py",
   "mimetype": "text/x-python",
   "name": "python",
   "nbconvert_exporter": "python",
   "pygments_lexer": "ipython3",
   "version": "3.8.3"
  }
 },
 "nbformat": 4,
 "nbformat_minor": 4
}
