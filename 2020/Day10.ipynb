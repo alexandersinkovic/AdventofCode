{
 "cells": [
  {
   "cell_type": "code",
   "execution_count": 1,
   "metadata": {},
   "outputs": [],
   "source": [
    "from aoc_fetcher import get_data\n",
    "input = get_data(2020, 10)"
   ]
  },
  {
   "cell_type": "code",
   "execution_count": 19,
   "metadata": {},
   "outputs": [
    {
     "name": "stdout",
     "output_type": "stream",
     "text": [
      "1\n",
      "94\n",
      "66 29 1914\n"
     ]
    }
   ],
   "source": [
    "adapters = sorted([int(line) for line in input.splitlines()])\n",
    "ones = 1\n",
    "threes = 1\n",
    "print(adapters[0])\n",
    "print(len(adapters))\n",
    "for i in range(1,len(adapters)):\n",
    "    if adapters[i] - adapters[i-1] == 1:\n",
    "        ones += 1\n",
    "    elif adapters[i] - adapters[i-1] == 3:\n",
    "        threes += 1\n",
    "print(ones, threes, ones * threes)"
   ]
  },
  {
   "cell_type": "code",
   "execution_count": 26,
   "metadata": {},
   "outputs": [
    {
     "name": "stdout",
     "output_type": "stream",
     "text": [
      "3 6 10\n",
      "9256148959232\n"
     ]
    }
   ],
   "source": [
    "three = 0\n",
    "four = 0\n",
    "five = 0\n",
    "count = 1\n",
    "for i in range(len(adapters)-1):\n",
    "    if adapters[i+1] - adapters[i] == 1:\n",
    "        count += 1\n",
    "    else:\n",
    "        if count == 4:\n",
    "            five += 1\n",
    "        elif count == 3:\n",
    "            four += 1\n",
    "        elif count == 2:\n",
    "            three += 1\n",
    "        count = 0\n",
    "print(three, four, five)\n",
    "print((2**(three+2*four)) * (7**five))\n",
    "#adapters"
   ]
  },
  {
   "cell_type": "code",
   "execution_count": null,
   "metadata": {},
   "outputs": [],
   "source": []
  }
 ],
 "metadata": {
  "kernelspec": {
   "display_name": "Python 3",
   "language": "python",
   "name": "python3"
  },
  "language_info": {
   "codemirror_mode": {
    "name": "ipython",
    "version": 3
   },
   "file_extension": ".py",
   "mimetype": "text/x-python",
   "name": "python",
   "nbconvert_exporter": "python",
   "pygments_lexer": "ipython3",
   "version": "3.8.3"
  }
 },
 "nbformat": 4,
 "nbformat_minor": 4
}
