{
 "cells": [
  {
   "cell_type": "code",
   "execution_count": 68,
   "metadata": {},
   "outputs": [],
   "source": [
    "from aoc_fetcher import get_data\n",
    "import copy\n",
    "input = get_data(2020, 11)"
   ]
  },
  {
   "cell_type": "code",
   "execution_count": 71,
   "metadata": {},
   "outputs": [],
   "source": [
    "seats = [[char for char in line] for line in input.splitlines()]\n",
    "seats_new = copy.deepcopy(seats)"
   ]
  },
  {
   "cell_type": "code",
   "execution_count": 88,
   "metadata": {},
   "outputs": [
    {
     "name": "stdout",
     "output_type": "stream",
     "text": [
      "2361\n",
      "[['#', 'L', '#', 'L', '#', 'L', '#', 'L', '#', '#', '#', 'L', '#', 'L', '#', '.', 'L', '#', '.', '#', '.', '#', 'L', '#', 'L', '#', 'L', '#', 'L', '#', 'L', '#', 'L', '#', 'L', '#', '.', '#', 'L', '#', 'L', '.', 'L', '#', 'L', '#', '.', '#', 'L', '#', 'L', '#', 'L', '#', 'L', '#', '.', '#', 'L', '#', 'L', '#', 'L', '#', 'L', '#', 'L', '#', '#', 'L', '#', 'L', '#', 'L', '#', 'L', '#', 'L', '#', '.', '#', 'L', '#', 'L', '#', '.', '#', 'L', '#', 'L', '#', 'L', '#', 'L', '#'], ['L', 'L', 'L', 'L', 'L', 'L', 'L', 'L', '.', '.', 'L', '.', 'L', 'L', 'L', 'L', 'L', 'L', 'L', 'L', '.', 'L', 'L', 'L', 'L', 'L', 'L', 'L', 'L', 'L', '.', 'L', 'L', 'L', 'L', 'L', '.', 'L', 'L', 'L', 'L', '#', 'L', 'L', 'L', 'L', 'L', '.', 'L', 'L', 'L', 'L', 'L', 'L', 'L', 'L', '.', 'L', 'L', 'L', 'L', 'L', 'L', 'L', 'L', 'L', '.', 'L', 'L', 'L', 'L', 'L', '.', 'L', 'L', 'L', 'L', 'L', 'L', '.', 'L', 'L', 'L', 'L', 'L', '.', 'L', '.', 'L', 'L', 'L', 'L', 'L', 'L', '.']]\n"
     ]
    }
   ],
   "source": [
    "oldcount = 3\n",
    "while count != oldcount:\n",
    "    oldcount = count\n",
    "    count = 0\n",
    "    for row in range(len(seats)):\n",
    "        for col in range(len(seats[0])):\n",
    "            if seats[row][col] == '.':\n",
    "                continue\n",
    "            if seats[row][col] == '#':\n",
    "                count += 1\n",
    "            occ = 0\n",
    "            for x in range(-1,2,1):\n",
    "                if col+x==-1 or col+x==len(seats[0]):\n",
    "                    continue\n",
    "                for y in range(-1,2,1):\n",
    "                    if x==0 and y==0:\n",
    "                        continue\n",
    "                    if row+y==-1 or row+y==len(seats):\n",
    "                        continue\n",
    "                    #Für Part 2 brauche ich hier mehr Schleifen -.-\n",
    "                    if seats[row+y][col+x] == '#':\n",
    "                        occ += 1\n",
    "            if seats[row][col] == 'L' and occ == 0:\n",
    "                seats_new[row][col] = '#'\n",
    "            elif seats[row][col] == '#' and occ >= 4:\n",
    "                seats_new[row][col] = 'L'\n",
    "    seats = copy.deepcopy(seats_new)\n",
    "print(count)\n",
    "print(seats_new[:2])"
   ]
  },
  {
   "cell_type": "code",
   "execution_count": null,
   "metadata": {},
   "outputs": [],
   "source": []
  }
 ],
 "metadata": {
  "kernelspec": {
   "display_name": "Python 3",
   "language": "python",
   "name": "python3"
  },
  "language_info": {
   "codemirror_mode": {
    "name": "ipython",
    "version": 3
   },
   "file_extension": ".py",
   "mimetype": "text/x-python",
   "name": "python",
   "nbconvert_exporter": "python",
   "pygments_lexer": "ipython3",
   "version": "3.8.3"
  }
 },
 "nbformat": 4,
 "nbformat_minor": 4
}
