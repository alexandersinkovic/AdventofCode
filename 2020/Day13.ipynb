{
 "cells": [
  {
   "cell_type": "code",
   "execution_count": null,
   "metadata": {},
   "outputs": [],
   "source": [
    "from aoc_fetcher import get_data\n",
    "input = get_data(2020, 13)"
   ]
  },
  {
   "cell_type": "code",
   "execution_count": null,
   "metadata": {},
   "outputs": [],
   "source": [
    "n = input.splitlines()[0]\n",
    "print(n)\n",
    "bus = [int(x) for x in input.splitlines()[1].split(',') if x.isnumeric()]\n",
    "print(bus)\n",
    "[x-int(n)%x for x in bus]"
   ]
  },
  {
   "cell_type": "code",
   "execution_count": null,
   "metadata": {},
   "outputs": [],
   "source": [
    "n = input.splitlines()[1].split(',')\n",
    "#n = ['7','13','x','x','59','x','31','19']\n",
    "#bus = [7, 13, 59, 31, 19]\n",
    "#print(n, bus)\n",
    "#for x in range(len(n)):\n",
    "#    if n[x].isnumeric():\n",
    "#        print(x)\n",
    "#diffs = [1,4,6,7]\n",
    "diffs = [3, 13, 15, 13, 13, 44, 13, 10]\n",
    "#for x in range(0, 100000, 13):\n",
    "#    if x%41 == 2:\n",
    "#        print(x)\n",
    "#        break\n",
    "        \n",
    "inc = 13\n",
    "num = 0\n",
    "index = 1\n",
    "for diff in diffs:\n",
    "    while True:\n",
    "        t = bus[index]\n",
    "        if t - num % t == diff:\n",
    "            inc = inc*t\n",
    "            index += 1\n",
    "            print(num)\n",
    "            break\n",
    "        num = num + inc\n",
    "        "
   ]
  },
  {
   "cell_type": "code",
   "execution_count": null,
   "metadata": {},
   "outputs": [],
   "source": []
  }
 ],
 "metadata": {
  "kernelspec": {
   "display_name": "Python 3",
   "language": "python",
   "name": "python3"
  },
  "language_info": {
   "codemirror_mode": {
    "name": "ipython",
    "version": 3
   },
   "file_extension": ".py",
   "mimetype": "text/x-python",
   "name": "python",
   "nbconvert_exporter": "python",
   "pygments_lexer": "ipython3",
   "version": "3.8.3"
  }
 },
 "nbformat": 4,
 "nbformat_minor": 4
}
