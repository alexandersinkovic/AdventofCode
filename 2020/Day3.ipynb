{
 "cells": [
  {
   "cell_type": "code",
   "execution_count": null,
   "metadata": {},
   "outputs": [],
   "source": [
    "from aoc_fetcher import get_data"
   ]
  },
  {
   "cell_type": "code",
   "execution_count": null,
   "metadata": {},
   "outputs": [],
   "source": [
    "input = get_data(2020, 3).splitlines()\n",
    "counter = 0\n",
    "trees = 0\n",
    "result = 1\n",
    "for x in [1, 3, 5, 7]:\n",
    "    for line in input:\n",
    "        if line[counter] == '#':\n",
    "            trees += 1\n",
    "        counter = (counter + x) % 31\n",
    "    print(trees)\n",
    "    counter = 0\n",
    "    trees = 0"
   ]
  },
  {
   "cell_type": "code",
   "execution_count": null,
   "metadata": {},
   "outputs": [],
   "source": [
    "counter = 0\n",
    "ignore = False\n",
    "for line in input:\n",
    "    if (ignore):\n",
    "        ignore = False\n",
    "        continue\n",
    "    else:\n",
    "        ignore = True\n",
    "    if line[counter] == '#':\n",
    "        trees += 1\n",
    "    counter = (counter + 1) % 31\n",
    "print(trees)"
   ]
  },
  {
   "cell_type": "code",
   "execution_count": null,
   "metadata": {},
   "outputs": [],
   "source": [
    "print(60*286*76*62*45)"
   ]
  },
  {
   "cell_type": "code",
   "execution_count": null,
   "metadata": {},
   "outputs": [],
   "source": []
  }
 ],
 "metadata": {
  "kernelspec": {
   "display_name": "Python 3",
   "language": "python",
   "name": "python3"
  },
  "language_info": {
   "codemirror_mode": {
    "name": "ipython",
    "version": 3
   },
   "file_extension": ".py",
   "mimetype": "text/x-python",
   "name": "python",
   "nbconvert_exporter": "python",
   "pygments_lexer": "ipython3",
   "version": "3.8.3"
  }
 },
 "nbformat": 4,
 "nbformat_minor": 4
}
