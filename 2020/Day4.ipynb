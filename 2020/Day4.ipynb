{
 "cells": [
  {
   "cell_type": "code",
   "execution_count": null,
   "metadata": {},
   "outputs": [],
   "source": [
    "from aoc_fetcher import get_data\n",
    "input = get_data(2020, 4)"
   ]
  },
  {
   "cell_type": "code",
   "execution_count": null,
   "metadata": {},
   "outputs": [],
   "source": [
    "lst = input.split(\"\\n\\n\")\n",
    "lst = [line.split() for line in [string.replace(\"\\n\", \" \") for string in lst]]\n",
    "for index in range(len(lst)):\n",
    "    lst[index] = [(string[:3], string[4:]) for string in lst[index]]\n",
    "lst8 = [line for line in lst if len(line) == 8]\n",
    "lst = [line for line in lst if line not in lst8 and len(line) == 7]\n",
    "print(len(lst))\n",
    "for line in lst:\n",
    "    cid = False\n",
    "    for tupl in line:\n",
    "        if tupl[0] == 'cid':\n",
    "            cid = True\n",
    "            break\n",
    "    if not cid:\n",
    "        lst8.append(line)\n",
    "print(len(lst8))\n",
    "#lst"
   ]
  },
  {
   "cell_type": "code",
   "execution_count": null,
   "metadata": {},
   "outputs": [],
   "source": [
    "hclcheck = \"0123456789abcdef\"\n",
    "eclcheck = ['amb', 'blu', 'brn', 'gry', 'grn', 'hzl', 'oth']\n",
    "count = 0\n",
    "for line in lst8:\n",
    "    valid = True\n",
    "    #print(line)\n",
    "    for tpl in line:\n",
    "        #print(tpl)\n",
    "        if tpl[0] == 'byr':\n",
    "            valid = (1920 <= int(tpl[1]) <= 2002)\n",
    "        elif tpl[0] == 'iyr':\n",
    "            valid = (2010 <= int(tpl[1]) <= 2020)\n",
    "        elif tpl[0] == 'eyr':\n",
    "            valid = (2020 <= int(tpl[1]) <= 2030)\n",
    "        elif tpl[0] == 'hgt':\n",
    "            if tpl[1][-2:] == 'cm':\n",
    "                valid = (150 <= int(tpl[1][:-2]) <= 193)\n",
    "            elif tpl[1][-2:] == 'in':\n",
    "                valid = (59 <= int(tpl[1][:-2]) <= 76)\n",
    "            else:\n",
    "                valid = False\n",
    "        elif tpl[0] == 'hcl':\n",
    "            for char in tpl[1][1:]:\n",
    "                valid = char in hclcheck\n",
    "            valid = len(tpl[1]) == 7 and tpl[1][:1] == '#'\n",
    "        elif tpl[0] == 'ecl':\n",
    "            valid = tpl[1] in eclcheck\n",
    "        elif tpl[0] == 'pid':\n",
    "            #print(tpl[1])\n",
    "            if len(tpl[1]) < 9:\n",
    "                valid = False\n",
    "            elif len(tpl[1]) > 9:\n",
    "                for char in tpl[1][:-9]:\n",
    "                    if char != '0':\n",
    "                        valid = False\n",
    "            #print(valid)\n",
    "        #print(valid)\n",
    "        if not valid:\n",
    "            break\n",
    "    if valid:\n",
    "        count += 1\n",
    "print(count)\n",
    "#lst8"
   ]
  },
  {
   "cell_type": "code",
   "execution_count": null,
   "metadata": {},
   "outputs": [],
   "source": []
  },
  {
   "cell_type": "code",
   "execution_count": null,
   "metadata": {},
   "outputs": [],
   "source": []
  }
 ],
 "metadata": {
  "kernelspec": {
   "display_name": "Python 3",
   "language": "python",
   "name": "python3"
  },
  "language_info": {
   "codemirror_mode": {
    "name": "ipython",
    "version": 3
   },
   "file_extension": ".py",
   "mimetype": "text/x-python",
   "name": "python",
   "nbconvert_exporter": "python",
   "pygments_lexer": "ipython3",
   "version": "3.8.3"
  }
 },
 "nbformat": 4,
 "nbformat_minor": 4
}
