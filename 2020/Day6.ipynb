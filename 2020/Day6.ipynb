{
 "cells": [
  {
   "cell_type": "code",
   "execution_count": null,
   "metadata": {},
   "outputs": [],
   "source": [
    "from aoc_fetcher import get_data\n",
    "import nltk\n",
    "input = get_data(2020, 6)"
   ]
  },
  {
   "cell_type": "code",
   "execution_count": null,
   "metadata": {},
   "outputs": [],
   "source": [
    "groupsOne = sum([len({char for char in line}) for line in [line.replace(\"\\n\", \"\") for line in input.split('\\n\\n')]])"
   ]
  },
  {
   "cell_type": "code",
   "execution_count": null,
   "metadata": {},
   "outputs": [],
   "source": [
    "print(groupsOne)"
   ]
  },
  {
   "cell_type": "code",
   "execution_count": null,
   "metadata": {},
   "outputs": [],
   "source": [
    "groupsAll = [line.split('\\n') for line in input.split('\\n\\n')]\n",
    "occurences = [len(line) for line in groupsAll]\n",
    "groupsAll = [nltk.FreqDist(''.join(line)) for line in groupsAll]\n",
    "result = 0\n",
    "for index in range(len(groupsAll)):\n",
    "    for entry in groupsAll[index].keys():\n",
    "        if groupsAll[index][entry] == occurences[index]:\n",
    "            result += 1"
   ]
  },
  {
   "cell_type": "code",
   "execution_count": null,
   "metadata": {},
   "outputs": [],
   "source": [
    "print(list(groupsAll[-1:]))\n",
    "print(sorted(set(occurences)))\n",
    "count = 0\n",
    "for entry in groupsAll[-1].keys():\n",
    "    if groupsAll[-1][entry] == 4:\n",
    "        count += 1\n",
    "print(count)\n",
    "#occurences\n",
    "#groupsAll\n",
    "print(result)\n",
    "groupsAll[-1]"
   ]
  },
  {
   "cell_type": "code",
   "execution_count": null,
   "metadata": {},
   "outputs": [],
   "source": []
  }
 ],
 "metadata": {
  "kernelspec": {
   "display_name": "Python 3",
   "language": "python",
   "name": "python3"
  },
  "language_info": {
   "codemirror_mode": {
    "name": "ipython",
    "version": 3
   },
   "file_extension": ".py",
   "mimetype": "text/x-python",
   "name": "python",
   "nbconvert_exporter": "python",
   "pygments_lexer": "ipython3",
   "version": "3.8.3"
  }
 },
 "nbformat": 4,
 "nbformat_minor": 4
}
