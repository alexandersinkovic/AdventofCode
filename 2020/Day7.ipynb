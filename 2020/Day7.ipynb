{
 "cells": [
  {
   "cell_type": "code",
   "execution_count": null,
   "metadata": {},
   "outputs": [],
   "source": [
    "from aoc_fetcher import get_data\n",
    "input = get_data(2020, 7)"
   ]
  },
  {
   "cell_type": "code",
   "execution_count": null,
   "metadata": {},
   "outputs": [],
   "source": [
    "bags = [line.replace(\" bags\", \"\").replace(\" bag\", \"\").replace(\".\", \"\").split(\" contain \") for line in input.splitlines()]\n",
    "my_dict = {}\n",
    "for bag in bags:\n",
    "    my_dict[bag[0]] = [elem[2:] for elem in bag[1].split(\", \")]\n",
    "print(bags[0])\n",
    "print(my_dict[\"dark maroon\"])\n",
    "count = 0\n",
    "for bag in my_dict.keys():\n",
    "    if \"shiny gold\" in my_dict[bag]:\n",
    "        count += 1\n",
    "print(count)"
   ]
  },
  {
   "cell_type": "code",
   "execution_count": null,
   "metadata": {},
   "outputs": [],
   "source": [
    "keys = my_dict.keys()\n",
    "my_dict_new = {}\n",
    "for bag in keys:\n",
    "    all_bags = {bag}\n",
    "    new_bags = {bag}\n",
    "    if my_dict[bag] != \" other\":\n",
    "        new_bags.update(my_dict[bag])\n",
    "    print(len(all_bags), len(new_bags))\n",
    "    while len(all_bags) != len(new_bags):\n",
    "        all_bags.update(list(new_bags.copy()))\n",
    "        for bag in all_bags:\n",
    "            if bag != \" other\":\n",
    "                new_bags.update(my_dict[bag])\n",
    "    my_dict_new[bag] = all_bags\n",
    "    print(\"ich lebe noch\")\n"
   ]
  },
  {
   "cell_type": "code",
   "execution_count": null,
   "metadata": {},
   "outputs": [],
   "source": [
    "list(my_dict.items())[:5]\n"
   ]
  },
  {
   "cell_type": "code",
   "execution_count": null,
   "metadata": {},
   "outputs": [],
   "source": []
  }
 ],
 "metadata": {
  "kernelspec": {
   "display_name": "Python 3",
   "language": "python",
   "name": "python3"
  },
  "language_info": {
   "codemirror_mode": {
    "name": "ipython",
    "version": 3
   },
   "file_extension": ".py",
   "mimetype": "text/x-python",
   "name": "python",
   "nbconvert_exporter": "python",
   "pygments_lexer": "ipython3",
   "version": "3.8.3"
  }
 },
 "nbformat": 4,
 "nbformat_minor": 4
}
