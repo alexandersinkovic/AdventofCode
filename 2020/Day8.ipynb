{
 "cells": [
  {
   "cell_type": "code",
   "execution_count": null,
   "metadata": {},
   "outputs": [],
   "source": [
    "from aoc_fetcher import get_data\n",
    "input = get_data(2020, 8)"
   ]
  },
  {
   "cell_type": "code",
   "execution_count": null,
   "metadata": {},
   "outputs": [],
   "source": [
    "def main(memory):\n",
    "    accelerator = 0\n",
    "    currentindex = 0\n",
    "    checked = []\n",
    "    while not currentindex in checked:\n",
    "        if currentindex >= len(memory):\n",
    "            break\n",
    "        checked.append(currentindex)\n",
    "        if memory[currentindex][0] == \"acc\":\n",
    "            accelerator = accelerator + int(memory[currentindex][1])\n",
    "            currentindex += 1\n",
    "        elif memory[currentindex][0] == \"jmp\":\n",
    "            currentindex = currentindex + int(memory[currentindex][1])\n",
    "        else:\n",
    "            currentindex += 1\n",
    "    return accelerator\n",
    "print(main([(line[:3], line[4:]) for line in input.splitlines()]))"
   ]
  },
  {
   "cell_type": "code",
   "execution_count": null,
   "metadata": {},
   "outputs": [],
   "source": [
    "def check_for_loop(memory):\n",
    "    check = []\n",
    "    currentindex = 0\n",
    "    while not currentindex in check:\n",
    "        if currentindex == len(memory):\n",
    "            return False\n",
    "        check.append(currentindex)\n",
    "        if memory[currentindex][0] == \"jmp\":\n",
    "            currentindex = currentindex + int(memory[currentindex][1])\n",
    "        else:\n",
    "            currentindex += 1\n",
    "    return True"
   ]
  },
  {
   "cell_type": "code",
   "execution_count": null,
   "metadata": {},
   "outputs": [],
   "source": [
    "for i in range(len(input.splitlines())):\n",
    "    memory = [(line[:3], line[4:]) for line in input.splitlines()]\n",
    "    if memory[i][0] == \"jmp\":\n",
    "        test = memory\n",
    "        test[i] = \"nop\" + memory[i][0]\n",
    "        if not check_for_loop(test):\n",
    "            print(main(test))\n",
    "    elif memory[i][0] == \"nop\":\n",
    "        test = memory\n",
    "        test[i] = \"jmp\" + memory[i][0]\n",
    "        if not check_for_loop(test):\n",
    "            print(main(test))"
   ]
  },
  {
   "cell_type": "code",
   "execution_count": null,
   "metadata": {},
   "outputs": [],
   "source": []
  }
 ],
 "metadata": {
  "kernelspec": {
   "display_name": "Python 3",
   "language": "python",
   "name": "python3"
  },
  "language_info": {
   "codemirror_mode": {
    "name": "ipython",
    "version": 3
   },
   "file_extension": ".py",
   "mimetype": "text/x-python",
   "name": "python",
   "nbconvert_exporter": "python",
   "pygments_lexer": "ipython3",
   "version": "3.8.3"
  }
 },
 "nbformat": 4,
 "nbformat_minor": 4
}
