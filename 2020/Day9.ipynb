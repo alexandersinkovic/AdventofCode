{
 "cells": [
  {
   "cell_type": "code",
   "execution_count": null,
   "metadata": {},
   "outputs": [],
   "source": [
    "from aoc_fetcher import get_data\n",
    "input = get_data(2020, 9)"
   ]
  },
  {
   "cell_type": "code",
   "execution_count": null,
   "metadata": {},
   "outputs": [],
   "source": [
    "input[:50]"
   ]
  },
  {
   "cell_type": "code",
   "execution_count": null,
   "metadata": {},
   "outputs": [],
   "source": [
    "numbers = [int(line) for line in input.splitlines()]\n",
    "index = 0 #0 to 24\n",
    "pairs = numbers[:25]\n",
    "\n",
    "for i in range(25, len(numbers)):\n",
    "    invalid = True\n",
    "    for x in pairs:\n",
    "        if numbers[i] - x in pairs:\n",
    "            invalid = False\n",
    "            break\n",
    "    if invalid:\n",
    "        print(i)\n",
    "        print(numbers[i])\n",
    "        break\n",
    "    pairs[index] = numbers[i]\n",
    "    index += 1\n",
    "    index = index % 25"
   ]
  },
  {
   "cell_type": "code",
   "execution_count": null,
   "metadata": {},
   "outputs": [],
   "source": [
    "window = 2\n",
    "while window < 502:\n",
    "    for x in range(window, 503-window):\n",
    "        if sum(numbers[x:x+window]) == 26134589:\n",
    "            print(numbers[x])\n",
    "            print(numbers[x+window])\n",
    "            print(min(numbers[x:x+window]) + max(numbers[x:x+window]))\n",
    "            print(numbers[x:x+window])\n",
    "            window = 503\n",
    "            break\n",
    "    window += 1"
   ]
  },
  {
   "cell_type": "code",
   "execution_count": null,
   "metadata": {},
   "outputs": [],
   "source": [
    "sum([1503494, 978652, 1057251, 1142009, 1239468, 1407633, 1048040, 1484541, 1164289, 1432864, 1792914, 2556472, 2464510, 1750429, 1753116, 1673488, 1685419])"
   ]
  },
  {
   "cell_type": "code",
   "execution_count": null,
   "metadata": {},
   "outputs": [],
   "source": []
  }
 ],
 "metadata": {
  "kernelspec": {
   "display_name": "Python 3",
   "language": "python",
   "name": "python3"
  },
  "language_info": {
   "codemirror_mode": {
    "name": "ipython",
    "version": 3
   },
   "file_extension": ".py",
   "mimetype": "text/x-python",
   "name": "python",
   "nbconvert_exporter": "python",
   "pygments_lexer": "ipython3",
   "version": "3.8.3"
  }
 },
 "nbformat": 4,
 "nbformat_minor": 4
}
